{
 "cells": [
  {
   "cell_type": "code",
   "execution_count": 27,
   "metadata": {},
   "outputs": [],
   "source": [
    "# Import MatPlotLib\n",
    "from matplotlib import style\n",
    "style.use('fivethirtyeight')\n",
    "import matplotlib.pyplot as plt\n",
    "import matplotlib.dates as mdates\n",
    "\n",
    "# Import Numpy and Pandas\n",
    "import numpy as np\n",
    "import pandas as pd\n",
    "\n",
    "# Import DateTime\n",
    "import datetime as dt\n",
    "\n",
    "import sqlalchemy\n",
    "from sqlalchemy.ext.automap import automap_base\n",
    "from sqlalchemy.orm import Session\n",
    "from sqlalchemy import create_engine, func\n",
    "\n",
    "# Import Flask\n",
    "from flask import Flask, jsonify"
   ]
  },
  {
   "cell_type": "code",
   "execution_count": 60,
   "metadata": {},
   "outputs": [],
   "source": [
    "engine = create_engine(\"sqlite:///Resources/city.sqlite\")\n",
    "connection = engine.connect()\n",
    "\n",
    "# Declare bases and map class\n",
    "Base = automap_base()\n",
    "\n",
    "# reflect the tables\n",
    "Base.prepare(engine, reflect=True)"
   ]
  },
  {
   "cell_type": "code",
   "execution_count": 61,
   "metadata": {},
   "outputs": [],
   "source": [
    "# view all of the classes\n",
    "Base.classes.keys()\n",
    "\n",
    "# Save references to each table\n",
    "City = Base.classes.city"
   ]
  },
  {
   "cell_type": "code",
   "execution_count": 96,
   "metadata": {},
   "outputs": [],
   "source": [
    "session = Session(engine)\n",
    "\n",
    "    # query results to a dictionary using date as the key and prcp as the value\n",
    "results = session.query(City.city,\n",
    "                        City.state,\n",
    "                        City.country,\n",
    "                        City.crime_index,\n",
    "                        City.safety_index,\n",
    "                        City.quality_of_life_index,\n",
    "                        City.purchasing_power_index,\n",
    "                        City.health_care_index,\n",
    "                        City.cost_of_living_index,\n",
    "                        City.traffic_commute_time_index,\n",
    "                        City.price_to_income_ratio,\n",
    "                        City.affordability_index\n",
    "                       ).\\\n",
    "    order_by(City.city).all()\n",
    "\n",
    "session.close()\n",
    "\n",
    "    # List date and precipitation\n",
    "data = []\n",
    "for city, state, country, crime, safety, life, purchasing, health, cost, traffic, price, affordability in results:\n",
    "    data_dict = {}\n",
    "    data_dict[\"city\"] = city\n",
    "    data_dict[\"state\"] = state\n",
    "    data_dict[\"country\"] = country\n",
    "    data_dict[\"crime_index\"] = crime\n",
    "    data_dict[\"safety_index\"] = crime\n",
    "    data_dict[\"quality_of_life_index\"] = crime\n",
    "    data_dict[\"purchasing_power_index\"] = crime\n",
    "    data_dict[\"health_care_index\"] = crime\n",
    "    data_dict[\"cost_of_living_index\"] = crime\n",
    "    data_dict[\"traffic_commute_time_index\"] = crime\n",
    "    data_dict[\"price_to_income_ratio\"] = crime\n",
    "    data_dict[\"affordability_index\"] = crime\n",
    "    data.append(data_dict)\n",
    "    \n",
    "    # Jsonify the data\n",
    "#return jsonify(data)"
   ]
  },
  {
   "cell_type": "code",
   "execution_count": 97,
   "metadata": {},
   "outputs": [
    {
     "name": "stdout",
     "output_type": "stream",
     "text": [
      "[{'city': 'Albuquerque', 'state': 'NM', 'country': 'United States', 'crime_index': 68.63, 'safety_index': 68.63, 'quality_of_life_index': 68.63, 'purchasing_power_index': 68.63, 'health_care_index': 68.63, 'cost_of_living_index': 68.63, 'traffic_commute_time_index': 68.63, 'price_to_income_ratio': 68.63, 'affordability_index': 68.63}, {'city': 'Atlanta', 'state': 'GA', 'country': 'United States', 'crime_index': 63.63, 'safety_index': 63.63, 'quality_of_life_index': 63.63, 'purchasing_power_index': 63.63, 'health_care_index': 63.63, 'cost_of_living_index': 63.63, 'traffic_commute_time_index': 63.63, 'price_to_income_ratio': 63.63, 'affordability_index': 63.63}, {'city': 'Austin', 'state': 'TX', 'country': 'United States', 'crime_index': 34.6, 'safety_index': 34.6, 'quality_of_life_index': 34.6, 'purchasing_power_index': 34.6, 'health_care_index': 34.6, 'cost_of_living_index': 34.6, 'traffic_commute_time_index': 34.6, 'price_to_income_ratio': 34.6, 'affordability_index': 34.6}, {'city': 'Baltimore', 'state': 'MD', 'country': 'United States', 'crime_index': 71.25, 'safety_index': 71.25, 'quality_of_life_index': 71.25, 'purchasing_power_index': 71.25, 'health_care_index': 71.25, 'cost_of_living_index': 71.25, 'traffic_commute_time_index': 71.25, 'price_to_income_ratio': 71.25, 'affordability_index': 71.25}, {'city': 'Boston', 'state': 'MA', 'country': 'United States', 'crime_index': 33.21, 'safety_index': 33.21, 'quality_of_life_index': 33.21, 'purchasing_power_index': 33.21, 'health_care_index': 33.21, 'cost_of_living_index': 33.21, 'traffic_commute_time_index': 33.21, 'price_to_income_ratio': 33.21, 'affordability_index': 33.21}, {'city': 'Charlotte', 'state': 'NC', 'country': 'United States', 'crime_index': 45.17, 'safety_index': 45.17, 'quality_of_life_index': 45.17, 'purchasing_power_index': 45.17, 'health_care_index': 45.17, 'cost_of_living_index': 45.17, 'traffic_commute_time_index': 45.17, 'price_to_income_ratio': 45.17, 'affordability_index': 45.17}, {'city': 'Chicago', 'state': 'IL', 'country': 'United States', 'crime_index': 64.64, 'safety_index': 64.64, 'quality_of_life_index': 64.64, 'purchasing_power_index': 64.64, 'health_care_index': 64.64, 'cost_of_living_index': 64.64, 'traffic_commute_time_index': 64.64, 'price_to_income_ratio': 64.64, 'affordability_index': 64.64}, {'city': 'Cincinnati', 'state': 'OH', 'country': 'United States', 'crime_index': 51.07, 'safety_index': 51.07, 'quality_of_life_index': 51.07, 'purchasing_power_index': 51.07, 'health_care_index': 51.07, 'cost_of_living_index': 51.07, 'traffic_commute_time_index': 51.07, 'price_to_income_ratio': 51.07, 'affordability_index': 51.07}, {'city': 'Columbus', 'state': 'OH', 'country': 'United States', 'crime_index': 42.36, 'safety_index': 42.36, 'quality_of_life_index': 42.36, 'purchasing_power_index': 42.36, 'health_care_index': 42.36, 'cost_of_living_index': 42.36, 'traffic_commute_time_index': 42.36, 'price_to_income_ratio': 42.36, 'affordability_index': 42.36}, {'city': 'Dallas', 'state': 'TX', 'country': 'United States', 'crime_index': 49.52, 'safety_index': 49.52, 'quality_of_life_index': 49.52, 'purchasing_power_index': 49.52, 'health_care_index': 49.52, 'cost_of_living_index': 49.52, 'traffic_commute_time_index': 49.52, 'price_to_income_ratio': 49.52, 'affordability_index': 49.52}, {'city': 'Denver', 'state': 'CO', 'country': 'United States', 'crime_index': 42.15, 'safety_index': 42.15, 'quality_of_life_index': 42.15, 'purchasing_power_index': 42.15, 'health_care_index': 42.15, 'cost_of_living_index': 42.15, 'traffic_commute_time_index': 42.15, 'price_to_income_ratio': 42.15, 'affordability_index': 42.15}, {'city': 'Detroit', 'state': 'MI', 'country': 'United States', 'crime_index': 71.84, 'safety_index': 71.84, 'quality_of_life_index': 71.84, 'purchasing_power_index': 71.84, 'health_care_index': 71.84, 'cost_of_living_index': 71.84, 'traffic_commute_time_index': 71.84, 'price_to_income_ratio': 71.84, 'affordability_index': 71.84}, {'city': 'Honolulu', 'state': 'HI', 'country': 'United States', 'crime_index': 43.78, 'safety_index': 43.78, 'quality_of_life_index': 43.78, 'purchasing_power_index': 43.78, 'health_care_index': 43.78, 'cost_of_living_index': 43.78, 'traffic_commute_time_index': 43.78, 'price_to_income_ratio': 43.78, 'affordability_index': 43.78}, {'city': 'Houston', 'state': 'TX', 'country': 'United States', 'crime_index': 60.91, 'safety_index': 60.91, 'quality_of_life_index': 60.91, 'purchasing_power_index': 60.91, 'health_care_index': 60.91, 'cost_of_living_index': 60.91, 'traffic_commute_time_index': 60.91, 'price_to_income_ratio': 60.91, 'affordability_index': 60.91}, {'city': 'Indianapolis', 'state': 'IN', 'country': 'United States', 'crime_index': 55.17, 'safety_index': 55.17, 'quality_of_life_index': 55.17, 'purchasing_power_index': 55.17, 'health_care_index': 55.17, 'cost_of_living_index': 55.17, 'traffic_commute_time_index': 55.17, 'price_to_income_ratio': 55.17, 'affordability_index': 55.17}, {'city': 'Jacksonville', 'state': 'FL', 'country': 'United States', 'crime_index': 58.29, 'safety_index': 58.29, 'quality_of_life_index': 58.29, 'purchasing_power_index': 58.29, 'health_care_index': 58.29, 'cost_of_living_index': 58.29, 'traffic_commute_time_index': 58.29, 'price_to_income_ratio': 58.29, 'affordability_index': 58.29}, {'city': 'Kansas City', 'state': 'MO', 'country': 'United States', 'crime_index': 60.23, 'safety_index': 60.23, 'quality_of_life_index': 60.23, 'purchasing_power_index': 60.23, 'health_care_index': 60.23, 'cost_of_living_index': 60.23, 'traffic_commute_time_index': 60.23, 'price_to_income_ratio': 60.23, 'affordability_index': 60.23}, {'city': 'Las Vegas', 'state': 'NV', 'country': 'United States', 'crime_index': 55.7, 'safety_index': 55.7, 'quality_of_life_index': 55.7, 'purchasing_power_index': 55.7, 'health_care_index': 55.7, 'cost_of_living_index': 55.7, 'traffic_commute_time_index': 55.7, 'price_to_income_ratio': 55.7, 'affordability_index': 55.7}, {'city': 'Los Angeles', 'state': 'CA', 'country': 'United States', 'crime_index': 47.13, 'safety_index': 47.13, 'quality_of_life_index': 47.13, 'purchasing_power_index': 47.13, 'health_care_index': 47.13, 'cost_of_living_index': 47.13, 'traffic_commute_time_index': 47.13, 'price_to_income_ratio': 47.13, 'affordability_index': 47.13}, {'city': 'Madison', 'state': 'WI', 'country': 'United States', 'crime_index': 27.59, 'safety_index': 27.59, 'quality_of_life_index': 27.59, 'purchasing_power_index': 27.59, 'health_care_index': 27.59, 'cost_of_living_index': 27.59, 'traffic_commute_time_index': 27.59, 'price_to_income_ratio': 27.59, 'affordability_index': 27.59}, {'city': 'Miami', 'state': 'FL', 'country': 'United States', 'crime_index': 52.91, 'safety_index': 52.91, 'quality_of_life_index': 52.91, 'purchasing_power_index': 52.91, 'health_care_index': 52.91, 'cost_of_living_index': 52.91, 'traffic_commute_time_index': 52.91, 'price_to_income_ratio': 52.91, 'affordability_index': 52.91}, {'city': 'Milwaukee', 'state': 'WI', 'country': 'United States', 'crime_index': 65.29, 'safety_index': 65.29, 'quality_of_life_index': 65.29, 'purchasing_power_index': 65.29, 'health_care_index': 65.29, 'cost_of_living_index': 65.29, 'traffic_commute_time_index': 65.29, 'price_to_income_ratio': 65.29, 'affordability_index': 65.29}, {'city': 'Minneapolis', 'state': 'MN', 'country': 'United States', 'crime_index': 48.72, 'safety_index': 48.72, 'quality_of_life_index': 48.72, 'purchasing_power_index': 48.72, 'health_care_index': 48.72, 'cost_of_living_index': 48.72, 'traffic_commute_time_index': 48.72, 'price_to_income_ratio': 48.72, 'affordability_index': 48.72}, {'city': 'New York', 'state': 'NY', 'country': 'United States', 'crime_index': 44.22, 'safety_index': 44.22, 'quality_of_life_index': 44.22, 'purchasing_power_index': 44.22, 'health_care_index': 44.22, 'cost_of_living_index': 44.22, 'traffic_commute_time_index': 44.22, 'price_to_income_ratio': 44.22, 'affordability_index': 44.22}, {'city': 'Oakland', 'state': 'CA', 'country': 'United States', 'crime_index': 64.11, 'safety_index': 64.11, 'quality_of_life_index': 64.11, 'purchasing_power_index': 64.11, 'health_care_index': 64.11, 'cost_of_living_index': 64.11, 'traffic_commute_time_index': 64.11, 'price_to_income_ratio': 64.11, 'affordability_index': 64.11}, {'city': 'Orlando', 'state': 'FL', 'country': 'United States', 'crime_index': 55.51, 'safety_index': 55.51, 'quality_of_life_index': 55.51, 'purchasing_power_index': 55.51, 'health_care_index': 55.51, 'cost_of_living_index': 55.51, 'traffic_commute_time_index': 55.51, 'price_to_income_ratio': 55.51, 'affordability_index': 55.51}, {'city': 'Philadelphia', 'state': 'PA', 'country': 'United States', 'crime_index': 58.09, 'safety_index': 58.09, 'quality_of_life_index': 58.09, 'purchasing_power_index': 58.09, 'health_care_index': 58.09, 'cost_of_living_index': 58.09, 'traffic_commute_time_index': 58.09, 'price_to_income_ratio': 58.09, 'affordability_index': 58.09}, {'city': 'Phoenix', 'state': 'AZ', 'country': 'United States', 'crime_index': 53.49, 'safety_index': 53.49, 'quality_of_life_index': 53.49, 'purchasing_power_index': 53.49, 'health_care_index': 53.49, 'cost_of_living_index': 53.49, 'traffic_commute_time_index': 53.49, 'price_to_income_ratio': 53.49, 'affordability_index': 53.49}, {'city': 'Pittsburgh', 'state': 'PA', 'country': 'United States', 'crime_index': 36.01, 'safety_index': 36.01, 'quality_of_life_index': 36.01, 'purchasing_power_index': 36.01, 'health_care_index': 36.01, 'cost_of_living_index': 36.01, 'traffic_commute_time_index': 36.01, 'price_to_income_ratio': 36.01, 'affordability_index': 36.01}, {'city': 'Portland', 'state': 'OR', 'country': 'United States', 'crime_index': 45.23, 'safety_index': 45.23, 'quality_of_life_index': 45.23, 'purchasing_power_index': 45.23, 'health_care_index': 45.23, 'cost_of_living_index': 45.23, 'traffic_commute_time_index': 45.23, 'price_to_income_ratio': 45.23, 'affordability_index': 45.23}, {'city': 'Sacramento', 'state': 'CA', 'country': 'United States', 'crime_index': 48.59, 'safety_index': 48.59, 'quality_of_life_index': 48.59, 'purchasing_power_index': 48.59, 'health_care_index': 48.59, 'cost_of_living_index': 48.59, 'traffic_commute_time_index': 48.59, 'price_to_income_ratio': 48.59, 'affordability_index': 48.59}, {'city': 'Saint Louis', 'state': 'MO', 'country': 'United States', 'crime_index': 67.16, 'safety_index': 67.16, 'quality_of_life_index': 67.16, 'purchasing_power_index': 67.16, 'health_care_index': 67.16, 'cost_of_living_index': 67.16, 'traffic_commute_time_index': 67.16, 'price_to_income_ratio': 67.16, 'affordability_index': 67.16}, {'city': 'Salt Lake City', 'state': 'UT', 'country': 'United States', 'crime_index': 25.2, 'safety_index': 25.2, 'quality_of_life_index': 25.2, 'purchasing_power_index': 25.2, 'health_care_index': 25.2, 'cost_of_living_index': 25.2, 'traffic_commute_time_index': 25.2, 'price_to_income_ratio': 25.2, 'affordability_index': 25.2}, {'city': 'San Antonio', 'state': 'TX', 'country': 'United States', 'crime_index': 46.11, 'safety_index': 46.11, 'quality_of_life_index': 46.11, 'purchasing_power_index': 46.11, 'health_care_index': 46.11, 'cost_of_living_index': 46.11, 'traffic_commute_time_index': 46.11, 'price_to_income_ratio': 46.11, 'affordability_index': 46.11}, {'city': 'San Diego', 'state': 'CA', 'country': 'United States', 'crime_index': 36.18, 'safety_index': 36.18, 'quality_of_life_index': 36.18, 'purchasing_power_index': 36.18, 'health_care_index': 36.18, 'cost_of_living_index': 36.18, 'traffic_commute_time_index': 36.18, 'price_to_income_ratio': 36.18, 'affordability_index': 36.18}, {'city': 'San Francisco', 'state': 'CA', 'country': 'United States', 'crime_index': 48.97, 'safety_index': 48.97, 'quality_of_life_index': 48.97, 'purchasing_power_index': 48.97, 'health_care_index': 48.97, 'cost_of_living_index': 48.97, 'traffic_commute_time_index': 48.97, 'price_to_income_ratio': 48.97, 'affordability_index': 48.97}, {'city': 'San Jose', 'state': 'CA', 'country': 'United States', 'crime_index': 41.96, 'safety_index': 41.96, 'quality_of_life_index': 41.96, 'purchasing_power_index': 41.96, 'health_care_index': 41.96, 'cost_of_living_index': 41.96, 'traffic_commute_time_index': 41.96, 'price_to_income_ratio': 41.96, 'affordability_index': 41.96}, {'city': 'Seattle', 'state': 'WA', 'country': 'United States', 'crime_index': 44.68, 'safety_index': 44.68, 'quality_of_life_index': 44.68, 'purchasing_power_index': 44.68, 'health_care_index': 44.68, 'cost_of_living_index': 44.68, 'traffic_commute_time_index': 44.68, 'price_to_income_ratio': 44.68, 'affordability_index': 44.68}, {'city': 'Tampa', 'state': 'FL', 'country': 'United States', 'crime_index': 47.8, 'safety_index': 47.8, 'quality_of_life_index': 47.8, 'purchasing_power_index': 47.8, 'health_care_index': 47.8, 'cost_of_living_index': 47.8, 'traffic_commute_time_index': 47.8, 'price_to_income_ratio': 47.8, 'affordability_index': 47.8}, {'city': 'Tucson', 'state': 'AZ', 'country': 'United States', 'crime_index': 51.53, 'safety_index': 51.53, 'quality_of_life_index': 51.53, 'purchasing_power_index': 51.53, 'health_care_index': 51.53, 'cost_of_living_index': 51.53, 'traffic_commute_time_index': 51.53, 'price_to_income_ratio': 51.53, 'affordability_index': 51.53}, {'city': 'Washington', 'state': 'DC', 'country': 'United States', 'crime_index': 57.28, 'safety_index': 57.28, 'quality_of_life_index': 57.28, 'purchasing_power_index': 57.28, 'health_care_index': 57.28, 'cost_of_living_index': 57.28, 'traffic_commute_time_index': 57.28, 'price_to_income_ratio': 57.28, 'affordability_index': 57.28}]\n"
     ]
    }
   ],
   "source": [
    "print(data)"
   ]
  }
 ],
 "metadata": {
  "kernelspec": {
   "display_name": "Python 3.8.2 64-bit ('PythonData': conda)",
   "language": "python",
   "name": "python38264bitpythondatacondac04bd68f73074d34a3e73f8f6a31eb20"
  },
  "language_info": {
   "codemirror_mode": {
    "name": "ipython",
    "version": 3
   },
   "file_extension": ".py",
   "mimetype": "text/x-python",
   "name": "python",
   "nbconvert_exporter": "python",
   "pygments_lexer": "ipython3",
   "version": "3.8.2"
  }
 },
 "nbformat": 4,
 "nbformat_minor": 4
}
